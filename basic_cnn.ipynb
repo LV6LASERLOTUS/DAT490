{
 "cells": [
  {
   "cell_type": "markdown",
   "id": "25feaf32-a124-42e9-9e7d-d72658f8ad9e",
   "metadata": {},
   "source": [
    "### Import libraries"
   ]
  },
  {
   "cell_type": "code",
   "execution_count": 1,
   "id": "680f6d16-cff1-4d80-94f2-98a1c518732d",
   "metadata": {},
   "outputs": [
    {
     "name": "stderr",
     "output_type": "stream",
     "text": [
      "2025-04-23 01:25:52.357411: E external/local_xla/xla/stream_executor/cuda/cuda_dnn.cc:9261] Unable to register cuDNN factory: Attempting to register factory for plugin cuDNN when one has already been registered\n",
      "2025-04-23 01:25:52.357460: E external/local_xla/xla/stream_executor/cuda/cuda_fft.cc:607] Unable to register cuFFT factory: Attempting to register factory for plugin cuFFT when one has already been registered\n",
      "2025-04-23 01:25:52.358229: E external/local_xla/xla/stream_executor/cuda/cuda_blas.cc:1515] Unable to register cuBLAS factory: Attempting to register factory for plugin cuBLAS when one has already been registered\n",
      "2025-04-23 01:25:52.362794: I tensorflow/core/platform/cpu_feature_guard.cc:182] This TensorFlow binary is optimized to use available CPU instructions in performance-critical operations.\n",
      "To enable the following instructions: SSE4.1 SSE4.2 AVX AVX2 FMA, in other operations, rebuild TensorFlow with the appropriate compiler flags.\n"
     ]
    }
   ],
   "source": [
    "import os\n",
    "from tqdm import tqdm\n",
    "import cv2\n",
    "import pandas as pd\n",
    "\n",
    "from sklearn.model_selection import train_test_split\n",
    "from sklearn.metrics import classification_report, confusion_matrix, roc_curve, auc\n",
    "\n",
    "from tensorflow.keras.utils import to_categorical\n",
    "from tensorflow.keras import models,layers\n",
    "from tensorflow.keras.callbacks import ModelCheckpoint\n",
    "from tensorflow.keras.backend import clear_session\n",
    "\n",
    "import numpy as np\n",
    "import matplotlib.pyplot as plt\n",
    "import seaborn as sns"
   ]
  },
  {
   "cell_type": "markdown",
   "id": "11005cda-325f-4991-a8e9-b50b39bc26cd",
   "metadata": {},
   "source": [
    "### Stating Global variables"
   ]
  },
  {
   "cell_type": "code",
   "execution_count": 2,
   "id": "1e9f231b-a640-494f-a5e2-812ff55de677",
   "metadata": {},
   "outputs": [],
   "source": [
    "SEED = 42\n",
    "PATH = '/home/ychien13/my_github/DAT490/original_datasets'"
   ]
  },
  {
   "cell_type": "code",
   "execution_count": 3,
   "id": "2ff8e536-4b41-4f89-b57b-be373b56f544",
   "metadata": {},
   "outputs": [
    {
     "name": "stdout",
     "output_type": "stream",
     "text": [
      "['meningioma', 'normal', 'pituitary', 'glioma']\n"
     ]
    }
   ],
   "source": [
    "LABELS = os.listdir(PATH)\n",
    "print(LABELS)"
   ]
  },
  {
   "cell_type": "markdown",
   "id": "8ebba772-ec2b-413f-932a-9ceae93c65c2",
   "metadata": {},
   "source": [
    "### Loading the dataset"
   ]
  },
  {
   "cell_type": "code",
   "execution_count": 4,
   "id": "c1ecadb2-1723-42d0-aa2b-21faf796c3b6",
   "metadata": {},
   "outputs": [
    {
     "name": "stdout",
     "output_type": "stream",
     "text": [
      "(250, 250, 3)\n"
     ]
    }
   ],
   "source": [
    "img=cv2.imread('/home/ychien13/my_github/DAT490/original_datasets/meningioma/Tr-me_0211.jpg')\n",
    "print(img.shape)"
   ]
  },
  {
   "cell_type": "code",
   "execution_count": 5,
   "id": "d1113572-b84c-452d-9376-b82dedb2c07c",
   "metadata": {},
   "outputs": [
    {
     "name": "stderr",
     "output_type": "stream",
     "text": [
      "100%|██████████| 3676/3676 [00:05<00:00, 709.23it/s]\n",
      " 26%|██▌       | 1030/4005 [00:01<00:04, 615.59it/s]"
     ]
    },
    {
     "name": "stdout",
     "output_type": "stream",
     "text": [
      "Error OpenCV(4.9.0) /home/conda/feedstock_root/build_artifacts/libopencv_1704864625327/work/modules/imgproc/src/resize.cpp:4152: error: (-215:Assertion failed) !ssize.empty() in function 'resize'\n",
      "\n"
     ]
    },
    {
     "name": "stderr",
     "output_type": "stream",
     "text": [
      " 42%|████▏     | 1666/4005 [00:02<00:03, 628.38it/s]"
     ]
    },
    {
     "name": "stdout",
     "output_type": "stream",
     "text": [
      "Error OpenCV(4.9.0) /home/conda/feedstock_root/build_artifacts/libopencv_1704864625327/work/modules/imgproc/src/resize.cpp:4152: error: (-215:Assertion failed) !ssize.empty() in function 'resize'\n",
      "\n"
     ]
    },
    {
     "name": "stderr",
     "output_type": "stream",
     "text": [
      " 66%|██████▋   | 2660/4005 [00:04<00:02, 670.62it/s]"
     ]
    },
    {
     "name": "stdout",
     "output_type": "stream",
     "text": [
      "Error OpenCV(4.9.0) /home/conda/feedstock_root/build_artifacts/libopencv_1704864625327/work/modules/imgproc/src/resize.cpp:4152: error: (-215:Assertion failed) !ssize.empty() in function 'resize'\n",
      "\n"
     ]
    },
    {
     "name": "stderr",
     "output_type": "stream",
     "text": [
      "100%|██████████| 4005/4005 [00:06<00:00, 630.44it/s]\n",
      "100%|██████████| 3664/3664 [00:04<00:00, 735.56it/s]\n",
      "100%|██████████| 4178/4178 [00:05<00:00, 759.29it/s]\n"
     ]
    }
   ],
   "source": [
    "images=[]\n",
    "labels=[]\n",
    "for type_index,cancer_type in enumerate(LABELS):\n",
    "    folder_path = f'{PATH}/{cancer_type}'\n",
    "    for image in tqdm(os.listdir(folder_path)):\n",
    "        try:\n",
    "            img=cv2.imread(os.path.join(folder_path,image))\n",
    "            img = cv2.resize(img,(250,250))\n",
    "            images.append(img)\n",
    "            labels.append(type_index)\n",
    "        except Exception as e:\n",
    "            print(f'Error {e}')\n",
    "\n",
    "labels = np.array(labels)\n",
    "images = np.array(images)"
   ]
  },
  {
   "cell_type": "markdown",
   "id": "93737899-ea4f-4cbf-b68c-1a0e1726bfcc",
   "metadata": {},
   "source": [
    "### Splitting Dataset"
   ]
  },
  {
   "cell_type": "code",
   "execution_count": 6,
   "id": "bfabd81a-7963-4bf5-8f86-44809d614668",
   "metadata": {},
   "outputs": [],
   "source": [
    "X_train,X_test,y_train,y_test = train_test_split(images,\n",
    "                                                 labels,\n",
    "                                                 train_size=0.7,\n",
    "                                                 test_size=0.3,\n",
    "                                                 stratify=labels,\n",
    "                                                 shuffle=True,\n",
    "                                                 random_state=SEED\n",
    "                                                )"
   ]
  },
  {
   "cell_type": "markdown",
   "id": "9f50e066-6938-443b-84c3-e3cd633d47a2",
   "metadata": {},
   "source": [
    "### Encode the labels"
   ]
  },
  {
   "cell_type": "code",
   "execution_count": 7,
   "id": "003e0592-53de-4465-bfea-d464de18e5f5",
   "metadata": {},
   "outputs": [],
   "source": [
    "encoded_y_train:np.array = to_categorical(y_train)\n",
    "encoded_y_test:np.array = to_categorical(y_test)"
   ]
  },
  {
   "cell_type": "markdown",
   "id": "95bd9d67-7914-4fa4-86a3-9bc58ac708bd",
   "metadata": {},
   "source": [
    "### Build model"
   ]
  },
  {
   "cell_type": "code",
   "execution_count": 8,
   "id": "8034b12a-e929-43df-90c8-c86774b8eccf",
   "metadata": {},
   "outputs": [],
   "source": [
    "checkpoint = ModelCheckpoint(\"cnn_model.keras\",\n",
    "                             monitor=\"val_accuracy\",\n",
    "                             save_best_only=True,\n",
    "                             mode=\"auto\",\n",
    "                             verbose=1\n",
    "                            )"
   ]
  },
  {
   "cell_type": "code",
   "execution_count": 9,
   "id": "971c0c8f-71e4-4a42-9738-926225c886ae",
   "metadata": {
    "scrolled": true
   },
   "outputs": [
    {
     "name": "stdout",
     "output_type": "stream",
     "text": [
      "Model: \"sequential\"\n",
      "_________________________________________________________________\n",
      " Layer (type)                Output Shape              Param #   \n",
      "=================================================================\n",
      " conv2d (Conv2D)             (None, 248, 248, 32)      896       \n",
      "                                                                 \n",
      " max_pooling2d (MaxPooling2  (None, 124, 124, 32)      0         \n",
      " D)                                                              \n",
      "                                                                 \n",
      " conv2d_1 (Conv2D)           (None, 122, 122, 64)      18496     \n",
      "                                                                 \n",
      " max_pooling2d_1 (MaxPoolin  (None, 61, 61, 64)        0         \n",
      " g2D)                                                            \n",
      "                                                                 \n",
      " conv2d_2 (Conv2D)           (None, 59, 59, 128)       73856     \n",
      "                                                                 \n",
      " max_pooling2d_2 (MaxPoolin  (None, 29, 29, 128)       0         \n",
      " g2D)                                                            \n",
      "                                                                 \n",
      " flatten (Flatten)           (None, 107648)            0         \n",
      "                                                                 \n",
      " dense (Dense)               (None, 128)               13779072  \n",
      "                                                                 \n",
      " dense_1 (Dense)             (None, 4)                 516       \n",
      "                                                                 \n",
      "=================================================================\n",
      "Total params: 13872836 (52.92 MB)\n",
      "Trainable params: 13872836 (52.92 MB)\n",
      "Non-trainable params: 0 (0.00 Byte)\n",
      "_________________________________________________________________\n"
     ]
    },
    {
     "name": "stderr",
     "output_type": "stream",
     "text": [
      "2025-04-23 01:26:42.878224: I tensorflow/core/common_runtime/gpu/gpu_device.cc:1929] Created device /job:localhost/replica:0/task:0/device:GPU:0 with 79195 MB memory:  -> device: 0, name: NVIDIA A100-SXM4-80GB, pci bus id: 0000:c1:00.0, compute capability: 8.0\n"
     ]
    }
   ],
   "source": [
    "model = models.Sequential([\n",
    "    layers.Input(shape=(250, 250, 3)),\n",
    "\n",
    "    layers.Conv2D(32, (3, 3), activation='relu'),\n",
    "    layers.MaxPooling2D((2, 2)),\n",
    "\n",
    "    layers.Conv2D(64, (3, 3), activation='relu'),\n",
    "    layers.MaxPooling2D((2, 2)),\n",
    "\n",
    "    layers.Conv2D(128, (3, 3), activation='relu'),\n",
    "    layers.MaxPooling2D((2, 2)),\n",
    "\n",
    "    layers.Flatten(),\n",
    "    layers.Dense(128, activation='relu'),\n",
    "    layers.Dense(4, activation='softmax')\n",
    "])\n",
    "\n",
    "model.compile(optimizer = 'adam',\n",
    "              loss = 'categorical_crossentropy',  \n",
    "              metrics = ['accuracy'])\n",
    "\n",
    "model.summary()"
   ]
  },
  {
   "cell_type": "markdown",
   "id": "34e30f1b-0570-445d-8319-636444c3bb2e",
   "metadata": {},
   "source": [
    "### Train Model"
   ]
  },
  {
   "cell_type": "code",
   "execution_count": null,
   "id": "bc6fb67f-837a-4e8c-87ca-23540bd5c49d",
   "metadata": {},
   "outputs": [
    {
     "name": "stdout",
     "output_type": "stream",
     "text": [
      "Epoch 1/10\n"
     ]
    },
    {
     "name": "stderr",
     "output_type": "stream",
     "text": [
      "2025-04-23 01:26:51.039368: I external/local_xla/xla/stream_executor/cuda/cuda_dnn.cc:454] Loaded cuDNN version 8907\n",
      "2025-04-23 01:26:51.339962: I external/local_tsl/tsl/platform/default/subprocess.cc:304] Start cannot spawn child process: No such file or directory\n",
      "2025-04-23 01:26:52.151975: I external/local_tsl/tsl/platform/default/subprocess.cc:304] Start cannot spawn child process: No such file or directory\n",
      "2025-04-23 01:26:52.281643: I external/local_xla/xla/service/service.cc:168] XLA service 0x153ea54e7030 initialized for platform CUDA (this does not guarantee that XLA will be used). Devices:\n",
      "2025-04-23 01:26:52.281691: I external/local_xla/xla/service/service.cc:176]   StreamExecutor device (0): NVIDIA A100-SXM4-80GB, Compute Capability 8.0\n",
      "2025-04-23 01:26:52.322932: I tensorflow/compiler/mlir/tensorflow/utils/dump_mlir_util.cc:269] disabling MLIR crash reproducer, set env var `MLIR_CRASH_REPRODUCER_DIRECTORY` to enable.\n",
      "WARNING: All log messages before absl::InitializeLog() is called are written to STDERR\n",
      "I0000 00:00:1745396812.472336  915762 device_compiler.h:186] Compiled cluster using XLA!  This line is logged at most once for the lifetime of the process.\n"
     ]
    },
    {
     "name": "stdout",
     "output_type": "stream",
     "text": [
      "272/272 [==============================] - ETA: 0s - loss: 11.7989 - accuracy: 0.7100\n",
      "Epoch 1: val_accuracy improved from -inf to 0.83985, saving model to cnn_model.keras\n",
      "272/272 [==============================] - 8s 17ms/step - loss: 11.7989 - accuracy: 0.7100 - val_loss: 0.4530 - val_accuracy: 0.8399\n",
      "Epoch 2/10\n",
      "271/272 [============================>.] - ETA: 0s - loss: 0.3902 - accuracy: 0.8609\n",
      "Epoch 2: val_accuracy improved from 0.83985 to 0.88909, saving model to cnn_model.keras\n",
      "272/272 [==============================] - 4s 14ms/step - loss: 0.3899 - accuracy: 0.8609 - val_loss: 0.3235 - val_accuracy: 0.8891\n",
      "Epoch 3/10\n",
      "269/272 [============================>.] - ETA: 0s - loss: 0.1900 - accuracy: 0.9326\n",
      "Epoch 3: val_accuracy improved from 0.88909 to 0.90980, saving model to cnn_model.keras\n",
      "272/272 [==============================] - 4s 14ms/step - loss: 0.1890 - accuracy: 0.9329 - val_loss: 0.3001 - val_accuracy: 0.9098\n",
      "Epoch 4/10\n",
      "272/272 [==============================] - ETA: 0s - loss: 0.1022 - accuracy: 0.9628\n",
      "Epoch 4: val_accuracy improved from 0.90980 to 0.91072, saving model to cnn_model.keras\n",
      "272/272 [==============================] - 4s 13ms/step - loss: 0.1022 - accuracy: 0.9628 - val_loss: 0.3223 - val_accuracy: 0.9107\n",
      "Epoch 5/10\n",
      "267/272 [============================>.] - ETA: 0s - loss: 0.1121 - accuracy: 0.9630\n",
      "Epoch 5: val_accuracy did not improve from 0.91072\n",
      "272/272 [==============================] - 3s 11ms/step - loss: 0.1123 - accuracy: 0.9628 - val_loss: 0.4361 - val_accuracy: 0.8900\n",
      "Epoch 6/10\n",
      "270/272 [============================>.] - ETA: 0s - loss: 0.0877 - accuracy: 0.9731\n",
      "Epoch 6: val_accuracy improved from 0.91072 to 0.92821, saving model to cnn_model.keras\n",
      "272/272 [==============================] - 4s 14ms/step - loss: 0.0873 - accuracy: 0.9733 - val_loss: 0.2981 - val_accuracy: 0.9282\n",
      "Epoch 7/10\n",
      "267/272 [============================>.] - ETA: 0s - loss: 0.0524 - accuracy: 0.9833\n",
      "Epoch 7: val_accuracy improved from 0.92821 to 0.93005, saving model to cnn_model.keras\n",
      "272/272 [==============================] - 4s 14ms/step - loss: 0.0541 - accuracy: 0.9831 - val_loss: 0.3557 - val_accuracy: 0.9301\n",
      "Epoch 8/10\n",
      "269/272 [============================>.] - ETA: 0s - loss: 0.0346 - accuracy: 0.9886\n",
      "Epoch 8: val_accuracy improved from 0.93005 to 0.93557, saving model to cnn_model.keras\n",
      "272/272 [==============================] - 4s 14ms/step - loss: 0.0346 - accuracy: 0.9886 - val_loss: 0.3501 - val_accuracy: 0.9356\n",
      "Epoch 9/10\n",
      "105/272 [==========>...................] - ETA: 1s - loss: 0.0199 - accuracy: 0.9943"
     ]
    }
   ],
   "source": [
    "history=model.fit(X_train, \n",
    "          encoded_y_train, \n",
    "          epochs=10, \n",
    "          validation_split=0.2,\n",
    "          verbose=True,\n",
    "          batch_size=32,\n",
    "          callbacks=[checkpoint]\n",
    "         )"
   ]
  },
  {
   "cell_type": "markdown",
   "id": "d2bbc621-65df-4eb7-8eed-8f6c3ba3cc90",
   "metadata": {},
   "source": [
    "### Evaluation"
   ]
  },
  {
   "cell_type": "code",
   "execution_count": 10,
   "id": "78204c78-7c08-4868-bb16-58d6c2d417a8",
   "metadata": {
    "scrolled": true
   },
   "outputs": [
    {
     "name": "stderr",
     "output_type": "stream",
     "text": [
      "2025-04-23 00:22:58.186458: I tensorflow/core/common_runtime/gpu/gpu_device.cc:1929] Created device /job:localhost/replica:0/task:0/device:GPU:0 with 79195 MB memory:  -> device: 0, name: NVIDIA A100-SXM4-80GB, pci bus id: 0000:c1:00.0, compute capability: 8.0\n"
     ]
    }
   ],
   "source": [
    "model = models.load_model('cnn_model.keras')"
   ]
  },
  {
   "cell_type": "code",
   "execution_count": null,
   "id": "1f5d19f7-dd05-4e86-aae6-d49b4bc3a882",
   "metadata": {},
   "outputs": [],
   "source": []
  },
  {
   "cell_type": "code",
   "execution_count": 65,
   "id": "8f630548-64a7-4abd-a181-3beb39f3e343",
   "metadata": {
    "scrolled": true
   },
   "outputs": [
    {
     "name": "stdout",
     "output_type": "stream",
     "text": [
      "146/146 [==============================] - 1s 4ms/step\n"
     ]
    }
   ],
   "source": [
    "predict = model.predict(X_test)"
   ]
  },
  {
   "cell_type": "code",
   "execution_count": 66,
   "id": "a3a2329e-3f93-4d40-8cd9-2e02d92985f5",
   "metadata": {},
   "outputs": [],
   "source": [
    "y_pred = np.argmax(predict,axis=1)\n",
    "y_true = np.argmax(encoded_y_test,axis=1)"
   ]
  },
  {
   "cell_type": "code",
   "execution_count": 67,
   "id": "6e02f51d-6810-4b64-b929-d96c2d47de3a",
   "metadata": {},
   "outputs": [
    {
     "name": "stdout",
     "output_type": "stream",
     "text": [
      "              precision    recall  f1-score   support\n",
      "\n",
      "           0       0.95      0.95      0.95      1103\n",
      "           1       0.97      0.97      0.97      1201\n",
      "           2       0.97      0.99      0.98      1099\n",
      "           3       0.97      0.95      0.96      1253\n",
      "\n",
      "    accuracy                           0.96      4656\n",
      "   macro avg       0.96      0.96      0.96      4656\n",
      "weighted avg       0.96      0.96      0.96      4656\n",
      "\n"
     ]
    }
   ],
   "source": [
    "report = classification_report(y_true,y_pred)\n",
    "cm = confusion_matrix(y_true, y_pred)\n",
    "print(report)"
   ]
  },
  {
   "cell_type": "code",
   "execution_count": null,
   "id": "17e55002-71b3-4667-a087-6cd62eb1d382",
   "metadata": {},
   "outputs": [],
   "source": []
  },
  {
   "cell_type": "code",
   "execution_count": 101,
   "id": "f8e45660-8137-4494-9d03-6a00e547c415",
   "metadata": {},
   "outputs": [
    {
     "data": {
      "image/png": "[encoded data removed]",
      "text/plain": [
       "<Figure size 1500x600 with 3 Axes>"
      ]
     },
     "metadata": {},
     "output_type": "display_data"
    }
   ],
   "source": [
    "fig,(ax1,ax2) = plt.subplots(1,2,figsize=(15,6))\n",
    "\n",
    "sns.heatmap(cm,\n",
    "            xticklabels=LABELS,\n",
    "            yticklabels=LABELS,\n",
    "            ax=ax1,\n",
    "            annot=True,\n",
    "            fmt='.1f'\n",
    "           )\n",
    "\n",
    "for i in range(0,len(LABELS)):\n",
    "    fpr, tpr, thresholds = roc_curve(encoded_y_test[:,i],predict[:,i])\n",
    "    auc_score=auc(fpr,tpr)   \n",
    "    ax2.plot(fpr,tpr,label=f'{LABELS[i]} (AUC = {auc_score:.2f})')\n",
    "\n",
    "ax2.plot([0,1],[0,1],'r--')\n",
    "ax2.legend()\n",
    "\n",
    "fig.suptitle('Results Evaluation')\n",
    "ax1.set_title('Confusion Matrix Heatmap')\n",
    "ax2.set_title('ROC Curve of One type vs the Rest')\n",
    "\n",
    "plt.show()"
   ]
  },
  {
   "cell_type": "code",
   "execution_count": null,
   "id": "be95000c-5627-4fa9-898c-ba752dc49b31",
   "metadata": {},
   "outputs": [],
   "source": []
  }
 ],
 "metadata": {
  "kernelspec": {
   "display_name": "tensorflow-gpu-2.15.0-cuda",
   "language": "python",
   "name": "tensorflow-gpu-2.15.0-cuda"
  },
  "language_info": {
   "codemirror_mode": {
    "name": "ipython",
    "version": 3
   },
   "file_extension": ".py",
   "mimetype": "text/x-python",
   "name": "python",
   "nbconvert_exporter": "python",
   "pygments_lexer": "ipython3",
   "version": "3.11.8"
  }
 },
 "nbformat": 4,
 "nbformat_minor": 5
}
